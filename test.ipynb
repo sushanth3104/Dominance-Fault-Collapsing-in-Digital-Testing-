{
 "cells": [
  {
   "cell_type": "code",
   "execution_count": 45,
   "metadata": {},
   "outputs": [],
   "source": [
    "# Net class: Contains the name of the net and the faults that are associated with it\n",
    "class Net:\n",
    "    all = []  # List of all instances\n",
    "    def __init__(self,name,level = None):\n",
    "        self.name = int(name)\n",
    "        self.faults = [\"sa0\",\"sa1\"]  # Default faults: Fault Population\n",
    "        self.level = level\n",
    "        Net.all.append(self)         # Add instance to list of all instances\n",
    "        \n",
    "    def __repr__(self):\n",
    "        return f\"Net_{self.name}\" "
   ]
  },
  {
   "cell_type": "code",
   "execution_count": 46,
   "metadata": {},
   "outputs": [
    {
     "name": "stdout",
     "output_type": "stream",
     "text": [
      "[['INPUT', '1', '2', '3', '4', '5'], ['OUTPUT', '11'], ['FANOUT', '7', '8', '9'], ['NAND', '6', '1', '2'], ['AND', '7', '4', '5'], ['AND', '10', '6', '3', '8'], ['OR', '11', '10', '9']]\n"
     ]
    }
   ],
   "source": [
    "with open(\"netlist.txt\") as f:\n",
    "    netlist = f.readlines()\n",
    "\n",
    "# Cleaning the netlist\n",
    "for i in range(len(netlist)):\n",
    "    netlist[i] = netlist[i].split()\n",
    "    netlist[i] = [x for x in netlist[i] if x != '']\n",
    "\n",
    "print(netlist)"
   ]
  },
  {
   "cell_type": "code",
   "execution_count": 47,
   "metadata": {},
   "outputs": [
    {
     "name": "stdout",
     "output_type": "stream",
     "text": [
      "['INPUT', '1', '2', '3', '4', '5']\n",
      "['OUTPUT', '11']\n",
      "['FANOUT', '7', '8', '9']\n",
      "['NAND', '6', '1', '2']\n",
      "['AND', '7', '4', '5']\n",
      "['AND', '10', '6', '3', '8']\n",
      "['OR', '11', '10', '9']\n"
     ]
    }
   ],
   "source": [
    "for item in netlist:\n",
    "    print(item)"
   ]
  },
  {
   "cell_type": "code",
   "execution_count": 48,
   "metadata": {},
   "outputs": [],
   "source": [
    "wire = []\n",
    "fanoutwire = []\n",
    "\n",
    "\n",
    "for item in netlist:\n",
    "    if item[0] not in [\"INPUT\",\"FANOUT\",\"OUTPUT\"]:\n",
    "        wire.append(item[1])\n",
    "    elif item[0] == \"FANOUT\":\n",
    "        fanoutwire.append(item[1])\n",
    "        \n"
   ]
  },
  {
   "cell_type": "code",
   "execution_count": 49,
   "metadata": {},
   "outputs": [
    {
     "name": "stdout",
     "output_type": "stream",
     "text": [
      "[['FANOUT', '7', '8', '9']]\n",
      "[['NAND', '6', '1', '2'], ['AND', '7', '4', '5'], ['AND', '10', '6', '3', '8'], ['OR', '11', '10', '9']]\n",
      "[['INPUT', '1', '2', '3', '4', '5']]\n",
      "[['OUTPUT', '11']]\n"
     ]
    }
   ],
   "source": [
    "FANOUT_List = []\n",
    "GATE_List = []\n",
    "Prime_INPUT_list = []\n",
    "Prime_OUTPUT_list = []\n",
    "\n",
    "\n",
    "for item in netlist:\n",
    "    if item[0] == \"FANOUT\":\n",
    "        FANOUT_List.append(item)\n",
    "    elif item[0] == \"OUTPUT\":\n",
    "        Prime_OUTPUT_list.append(item)\n",
    "    elif item[0] == \"INPUT\":   \n",
    "        Prime_INPUT_list.append(item)\n",
    "    else :\n",
    "        GATE_List.append(item)\n",
    "\n",
    "print(FANOUT_List)\n",
    "print(GATE_List)\n",
    "print(Prime_INPUT_list)\n",
    "print(Prime_OUTPUT_list)"
   ]
  },
  {
   "cell_type": "code",
   "execution_count": 50,
   "metadata": {},
   "outputs": [
    {
     "data": {
      "text/plain": [
       "[['INPUT', Net_1, Net_2, Net_3, Net_4, Net_5]]"
      ]
     },
     "execution_count": 50,
     "metadata": {},
     "output_type": "execute_result"
    }
   ],
   "source": [
    "# Primary inputs \n",
    "\n",
    "for index,prime_inp in enumerate(Prime_INPUT_list[0][1:]):\n",
    "    Prime_INPUT_list[0][index+1] = Net(prime_inp,0)\n",
    "\n",
    "Prime_INPUT_list\n"
   ]
  },
  {
   "cell_type": "code",
   "execution_count": 51,
   "metadata": {},
   "outputs": [
    {
     "name": "stdout",
     "output_type": "stream",
     "text": [
      "1\n",
      "0\n",
      "2\n",
      "0\n",
      "3\n",
      "0\n",
      "4\n",
      "0\n",
      "5\n",
      "0\n"
     ]
    }
   ],
   "source": [
    "for Net in Net.all:\n",
    "    print(Net.name)\n",
    "    print(Net.level)"
   ]
  }
 ],
 "metadata": {
  "kernelspec": {
   "display_name": "Python 3",
   "language": "python",
   "name": "python3"
  },
  "language_info": {
   "codemirror_mode": {
    "name": "ipython",
    "version": 3
   },
   "file_extension": ".py",
   "mimetype": "text/x-python",
   "name": "python",
   "nbconvert_exporter": "python",
   "pygments_lexer": "ipython3",
   "version": "3.9.6"
  }
 },
 "nbformat": 4,
 "nbformat_minor": 2
}
